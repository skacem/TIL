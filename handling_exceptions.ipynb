{
 "cells": [
  {
   "cell_type": "code",
   "execution_count": 41,
   "id": "1b3f65f5-cfa6-4e4a-a2d1-b06c83c9e8e3",
   "metadata": {},
   "outputs": [],
   "source": [
    "# Auto-completion is not working bc of jedi\n",
    "%config Completer.use_jedi = False"
   ]
  },
  {
   "cell_type": "code",
   "execution_count": 17,
   "id": "38e71ad3-bf0b-42f4-ad4e-e80a4956615e",
   "metadata": {},
   "outputs": [
    {
     "name": "stdout",
     "output_type": "stream",
     "text": [
      "Next line\n"
     ]
    }
   ],
   "source": [
    "try:\n",
    "    result = 5/0\n",
    "except:\n",
    "    pass\n",
    "\n",
    "print('Next line')"
   ]
  },
  {
   "cell_type": "markdown",
   "id": "5d2d6fe2-7eda-4551-9267-f73423055338",
   "metadata": {},
   "source": [
    "We all have seen this kind of code...\n",
    "\n",
    "In cs, error hiding or error swallowing is the practice of catching an error or exception and then continuing without logging, processing or reporting the error to other parts of the software.Handling errors in this manner is considered bad practice and an anti-pattern in computer programming.  \n",
    "Errors and exceptions have several purposes:\n",
    "\n",
    "* Help software maintainers track down and understand problems that happen when a user is running the software, when combined with a logging system\n",
    "* Provide useful information to the user of the software\n",
    "* Indicate that normal operation cannot continue, so the software can fall back to alternative ways of performing the required task or abort the operation.\n",
    "\n"
   ]
  },
  {
   "cell_type": "code",
   "execution_count": 37,
   "id": "ac58a2ba-ebac-40ad-80b1-152e9e2f71c8",
   "metadata": {
    "tags": []
   },
   "outputs": [
    {
     "name": "stdout",
     "output_type": "stream",
     "text": [
      "float division by zero\n",
      "<class 'ZeroDivisionError'>\n",
      "Next line\n"
     ]
    }
   ],
   "source": [
    "# To simply catch an exception:\n",
    "try:\n",
    "    result = .5/0\n",
    "except Exception as e:\n",
    "    print(e)\n",
    "print('Next line')"
   ]
  },
  {
   "cell_type": "code",
   "execution_count": 50,
   "id": "5603b03f-1b3d-4187-a26a-cd44a86d0f4c",
   "metadata": {
    "tags": []
   },
   "outputs": [
    {
     "name": "stdout",
     "output_type": "stream",
     "text": [
      "(<class 'NameError'>, NameError(\"name 'b' is not defined\",), <traceback object at 0x7fadce674988>)\n"
     ]
    }
   ],
   "source": [
    "# Exceptions are nothing but objects\n",
    "# In Python, all exceptions must be instances of a class that derives from BaseException\n",
    "import sys\n",
    "try:\n",
    "    y = b + 2\n",
    "except Exception as e:\n",
    "    print(sys.exc_info())"
   ]
  },
  {
   "cell_type": "code",
   "execution_count": 63,
   "id": "40145a8c-3be8-4b19-9cf3-d67e00deb3df",
   "metadata": {},
   "outputs": [
    {
     "ename": "FileNotFoundError",
     "evalue": "[Errno 2] No such file or directory: 'foo'",
     "output_type": "error",
     "traceback": [
      "\u001b[0;31m---------------------------------------------------------------------------\u001b[0m",
      "\u001b[0;31mFileNotFoundError\u001b[0m                         Traceback (most recent call last)",
      "\u001b[0;32m<ipython-input-63-c78b5af1da13>\u001b[0m in \u001b[0;36m<module>\u001b[0;34m\u001b[0m\n\u001b[1;32m      1\u001b[0m \u001b[0;31m# User code can raise built-in exception\u001b[0m\u001b[0;34m\u001b[0m\u001b[0;34m\u001b[0m\u001b[0;34m\u001b[0m\u001b[0m\n\u001b[1;32m      2\u001b[0m \u001b[0mexp\u001b[0m \u001b[0;34m=\u001b[0m \u001b[0mOSError\u001b[0m\u001b[0;34m(\u001b[0m\u001b[0;36m2\u001b[0m\u001b[0;34m,\u001b[0m \u001b[0;34m'No such file or directory'\u001b[0m\u001b[0;34m,\u001b[0m \u001b[0;34m'foo'\u001b[0m\u001b[0;34m)\u001b[0m\u001b[0;34m\u001b[0m\u001b[0;34m\u001b[0m\u001b[0m\n\u001b[0;32m----> 3\u001b[0;31m \u001b[0;32mraise\u001b[0m \u001b[0mexp\u001b[0m\u001b[0;34m\u001b[0m\u001b[0;34m\u001b[0m\u001b[0m\n\u001b[0m",
      "\u001b[0;31mFileNotFoundError\u001b[0m: [Errno 2] No such file or directory: 'foo'"
     ]
    }
   ],
   "source": [
    "# User code can raise built-in exception by initiating an error class and calling raise\n",
    "exp = OSError(2, 'No such file or directory', 'foo')\n",
    "raise exp\n"
   ]
  },
  {
   "cell_type": "code",
   "execution_count": 23,
   "id": "a518b8f2-1e0a-4b29-a5c8-e2eca0260c64",
   "metadata": {},
   "outputs": [
    {
     "name": "stdout",
     "output_type": "stream",
     "text": [
      "An exception of type ZeroDivisionError occurred. Arguments:\n",
      "('float division by zero',)\n"
     ]
    }
   ],
   "source": [
    "# A more informative message about an exception\n",
    "try:\n",
    "    result = .5/0\n",
    "except Exception as e:\n",
    "    template = \"An exception of type {0} occurred. Arguments:\\n{1!r}\"\n",
    "    message = template.format(type(e).__name__, e.args)\n",
    "    print(message)"
   ]
  },
  {
   "cell_type": "code",
   "execution_count": 18,
   "id": "f9508ed0-152c-45ba-8883-f03514b75188",
   "metadata": {},
   "outputs": [
    {
     "name": "stderr",
     "output_type": "stream",
     "text": [
      "You've got a Message!!\n",
      "NoneType: None\n"
     ]
    }
   ],
   "source": [
    "# if you want to catch the exception as well as the user attention:\n",
    "import logging\n",
    "log = logging.getLogger()\n",
    "log.exception(\"You've got a Message!!\")"
   ]
  },
  {
   "cell_type": "code",
   "execution_count": 24,
   "id": "850efdf8-b4ea-4a73-b323-fc3ba431df9a",
   "metadata": {},
   "outputs": [
    {
     "name": "stdout",
     "output_type": "stream",
     "text": [
      "Next line\n"
     ]
    },
    {
     "name": "stderr",
     "output_type": "stream",
     "text": [
      "Traceback (most recent call last):\n",
      "  File \"<ipython-input-24-e09497e645c8>\", line 3, in <module>\n",
      "    result = .5/0\n",
      "ZeroDivisionError: float division by zero\n"
     ]
    }
   ],
   "source": [
    "# A mixture of the two last exception's handling\n",
    "try:\n",
    "    result = .5/0\n",
    "except Exception:\n",
    "    traceback.print_exc()\n",
    "print('Next line')"
   ]
  },
  {
   "cell_type": "code",
   "execution_count": null,
   "id": "7388d500-61de-4bf3-9d0a-71855aff675b",
   "metadata": {},
   "outputs": [
    {
     "name": "stdout",
     "output_type": "stream",
     "text": [
      "> \u001b[0;32m<ipython-input-64-5102854600d9>\u001b[0m(4)\u001b[0;36m<module>\u001b[0;34m()\u001b[0m\n",
      "\u001b[0;32m      2 \u001b[0;31m\u001b[0;32mimport\u001b[0m \u001b[0mpdb\u001b[0m\u001b[0;34m\u001b[0m\u001b[0;34m\u001b[0m\u001b[0m\n",
      "\u001b[0m\u001b[0;32m      3 \u001b[0;31m\u001b[0;32mtry\u001b[0m\u001b[0;34m:\u001b[0m\u001b[0;34m\u001b[0m\u001b[0;34m\u001b[0m\u001b[0m\n",
      "\u001b[0m\u001b[0;32m----> 4 \u001b[0;31m    \u001b[0mresult\u001b[0m \u001b[0;34m=\u001b[0m \u001b[0;36m.5\u001b[0m\u001b[0;34m/\u001b[0m\u001b[0;36m0\u001b[0m\u001b[0;34m\u001b[0m\u001b[0;34m\u001b[0m\u001b[0m\n",
      "\u001b[0m\u001b[0;32m      5 \u001b[0;31m\u001b[0;32mexcept\u001b[0m \u001b[0mException\u001b[0m \u001b[0;32mas\u001b[0m \u001b[0me\u001b[0m\u001b[0;34m:\u001b[0m\u001b[0;34m\u001b[0m\u001b[0;34m\u001b[0m\u001b[0m\n",
      "\u001b[0m\u001b[0;32m      6 \u001b[0;31m    \u001b[0mpdb\u001b[0m\u001b[0;34m.\u001b[0m\u001b[0mpost_mortem\u001b[0m\u001b[0;34m(\u001b[0m\u001b[0;34m)\u001b[0m\u001b[0;34m\u001b[0m\u001b[0;34m\u001b[0m\u001b[0m\n",
      "\u001b[0m\n"
     ]
    },
    {
     "name": "stdin",
     "output_type": "stream",
     "text": [
      "ipdb>  e\n"
     ]
    },
    {
     "name": "stdout",
     "output_type": "stream",
     "text": [
      "ZeroDivisionError('float division by zero',)\n"
     ]
    },
    {
     "name": "stdin",
     "output_type": "stream",
     "text": [
      "ipdb>  e.__track_back__\n"
     ]
    },
    {
     "name": "stdout",
     "output_type": "stream",
     "text": [
      "*** AttributeError: 'ZeroDivisionError' object has no attribute '__track_back__'\n"
     ]
    },
    {
     "name": "stdin",
     "output_type": "stream",
     "text": [
      "ipdb>  e.__traceback__\n"
     ]
    },
    {
     "name": "stdout",
     "output_type": "stream",
     "text": [
      "<traceback object at 0x7fadce6ab0c8>\n"
     ]
    },
    {
     "name": "stdin",
     "output_type": "stream",
     "text": [
      "ipdb>  e.__hash__\n"
     ]
    },
    {
     "name": "stdout",
     "output_type": "stream",
     "text": [
      "<method-wrapper '__hash__' of ZeroDivisionError object at 0x7fadce6aa2b0>\n"
     ]
    },
    {
     "name": "stdin",
     "output_type": "stream",
     "text": [
      "ipdb>  e.__hash__()\n"
     ]
    },
    {
     "name": "stdout",
     "output_type": "stream",
     "text": [
      "8774029322795\n"
     ]
    }
   ],
   "source": [
    "# if you wanna dig deeper into the exception or debug\n",
    "import pdb\n",
    "try:\n",
    "    result = .5/0\n",
    "except Exception as e:\n",
    "    pdb.post_mortem()"
   ]
  },
  {
   "cell_type": "code",
   "execution_count": 30,
   "id": "9f961b03-54bf-4df1-89dc-9727b43ab10b",
   "metadata": {},
   "outputs": [
    {
     "name": "stdout",
     "output_type": "stream",
     "text": [
      "Next line\n"
     ]
    },
    {
     "name": "stderr",
     "output_type": "stream",
     "text": [
      "Traceback (most recent call last):\n",
      "  File \"<ipython-input-30-7edda83674cd>\", line 3, in <module>\n",
      "    a[10]\n",
      "IndexError: list index out of range\n"
     ]
    }
   ],
   "source": [
    "# you can catch more than one exception as follows, \n",
    "# However I I wouldn't advise you to do it this way.\n",
    "a = [1, 2, 3]\n",
    "try:\n",
    "    a[10]\n",
    "except(IndexError, ValueError):\n",
    "    traceback.print_exc()\n",
    "print('Next line')"
   ]
  },
  {
   "cell_type": "code",
   "execution_count": null,
   "id": "7e5ea7fd-0c5e-4725-a205-ccf81f6a0302",
   "metadata": {},
   "outputs": [],
   "source": []
  },
  {
   "cell_type": "code",
   "execution_count": null,
   "id": "c3e4eca2-eb0e-4bbb-aeec-fd8083041869",
   "metadata": {},
   "outputs": [],
   "source": []
  }
 ],
 "metadata": {
  "kernelspec": {
   "display_name": "Python 3",
   "language": "python",
   "name": "python3"
  },
  "language_info": {
   "codemirror_mode": {
    "name": "ipython",
    "version": 3
   },
   "file_extension": ".py",
   "mimetype": "text/x-python",
   "name": "python",
   "nbconvert_exporter": "python",
   "pygments_lexer": "ipython3",
   "version": "3.6.13"
  }
 },
 "nbformat": 4,
 "nbformat_minor": 5
}
