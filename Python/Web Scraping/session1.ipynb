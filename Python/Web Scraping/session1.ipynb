{
 "cells": [
  {
   "cell_type": "markdown",
   "id": "10575ffb-d7b8-4570-8cf1-2c988a1a1ec7",
   "metadata": {},
   "source": [
    "# Web Scraping - Session 1"
   ]
  },
  {
   "cell_type": "code",
   "execution_count": 28,
   "id": "96853cd7-c176-4d3f-8c37-7236f0c505ff",
   "metadata": {},
   "outputs": [],
   "source": [
    "import requests\n",
    "from bs4 import BeautifulSoup as bs\n",
    "import re\n",
    "\n",
    "# Auto-completion is not working bc of jedi\n",
    "%config Completer.use_jedi = False"
   ]
  },
  {
   "cell_type": "code",
   "execution_count": 123,
   "id": "829658d1-a97a-4afd-8964-88cc6445dfda",
   "metadata": {},
   "outputs": [],
   "source": [
    "# first web crawler\n",
    "def top_100_movies(genre):\n",
    "    genres = ['animation', 'horror', 'drama', 'comedy', \n",
    "              'classics', 'documentary', 'romance',\n",
    "             'mystery__suspense', 'action__adventure',\n",
    "             'science_fiction__fantasy','art_house__international' ]\n",
    "    if (genre.lower() not in genres):\n",
    "        raise Exception(\"Sorry, your selected movie genre is unknow.\" )\n",
    "    headers = {\n",
    "        'user-agent': \n",
    "        'Mozilla/5.0 (Windows NT 6.1; Win64; x64) AppleWebKit/537.36 (KHTML, like Gecko) Chrome/52.0.2743.82 Safari/537.36',\n",
    "        'Cache-Control':'no-cache'\n",
    "    }\n",
    "    \n",
    "    link = 'https://www.rottentomatoes.com/top/bestofrt/top_100_' + genre.lower() + '_movies/'\n",
    "    movie_list = []\n",
    "    r = requests.get(link, headers=headers, timeout=20)\n",
    "    soup = bs(r.text, \"lxml\")\n",
    "    table = soup.find('table', class_=\"table\").find_all('a', class_=\"unstyled articleLink\")\n",
    "    for a in table:\n",
    "        movie_list.append(a.getText().strip())\n",
    "    return movie_list"
   ]
  },
  {
   "cell_type": "code",
   "execution_count": 127,
   "id": "f312b015-be31-4a53-800f-b967e2834eb0",
   "metadata": {},
   "outputs": [
    {
     "data": {
      "text/plain": [
       "['Mission: Impossible - Fallout (2018)', 'Get Out (2017)', 'Spotlight (2015)']"
      ]
     },
     "execution_count": 127,
     "metadata": {},
     "output_type": "execute_result"
    }
   ],
   "source": [
    "genres = ['animation', 'horror', 'drama', 'comedy', \n",
    "              'classics', 'documentary', 'romance',\n",
    "             'mystery__suspense', 'action__adventure',\n",
    "             'science_fiction__fantasy','art_house__international']\n",
    "\n",
    "\n",
    "# 3 top movies in category mystery & suspense\n",
    "top_100_movies('mystery__suspense')[:3]"
   ]
  },
  {
   "cell_type": "code",
   "execution_count": null,
   "id": "d900415b-e188-41bf-a0b4-c90eb6a05624",
   "metadata": {},
   "outputs": [],
   "source": []
  }
 ],
 "metadata": {
  "kernelspec": {
   "display_name": "Python 3",
   "language": "python",
   "name": "python3"
  },
  "language_info": {
   "codemirror_mode": {
    "name": "ipython",
    "version": 3
   },
   "file_extension": ".py",
   "mimetype": "text/x-python",
   "name": "python",
   "nbconvert_exporter": "python",
   "pygments_lexer": "ipython3",
   "version": "3.6.13"
  }
 },
 "nbformat": 4,
 "nbformat_minor": 5
}
