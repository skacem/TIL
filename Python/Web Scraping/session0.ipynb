{
 "cells": [
  {
   "cell_type": "markdown",
   "id": "3dbd1531-e478-4950-9eed-935bdb5c369e",
   "metadata": {},
   "source": [
    "# Session 0 - Requests\n",
    "\n"
   ]
  },
  {
   "cell_type": "markdown",
   "id": "e254b7a5-7d78-4461-b3c2-7ea7f90c041d",
   "metadata": {},
   "source": [
    "\n",
    "The first step in writing a crawler in Python is to simulate a get request to obtain the source code of the target web page and to get to know the structure of the response and how to make use of the fetched data.  \n",
    "\n",
    "There are two modules for requests: `urllib` and `requests`. \n",
    "\n",
    "In this session we are going to learn how to use the `requests` module for different queries and get familiar with: \n",
    "\n",
    "* The structure of GET request and how to use it to fetch some data\n",
    "* the structure of POST request and how to use it to send forms and files\n",
    "* The structure of the RESPONSE from the server after a GET or a POST client's request and how to extract useful information\n",
    "* Other advanced topics such as cookies, timers, ..."
   ]
  },
  {
   "cell_type": "code",
   "execution_count": 1,
   "id": "919cb428-9ce0-4b02-ab76-5146aa176607",
   "metadata": {},
   "outputs": [],
   "source": [
    "# we begin by importing the `requests` module\n",
    "# if not installed just run: pip install requests in a shell\n",
    "# or if you are using cond: conda -c conda-forge requests\n",
    "import requests\n",
    "import json"
   ]
  },
  {
   "cell_type": "markdown",
   "id": "bb004955-dc63-46e7-a778-dc670d6d78fc",
   "metadata": {},
   "source": [
    "## GET Request"
   ]
  },
  {
   "cell_type": "code",
   "execution_count": 2,
   "id": "f5ed6372-f81a-4295-92f5-9b48d89585a1",
   "metadata": {},
   "outputs": [],
   "source": [
    "# The get request can be as easy as this one line when using requests\n",
    "# Only a link is needed and voila you have all the HTML source in a given variable\n",
    "r = requests.get('http://httpbin.org/get')"
   ]
  },
  {
   "cell_type": "markdown",
   "id": "8e0d5981-d57c-4cfe-93ac-0c086cdd1f31",
   "metadata": {},
   "source": [
    "`r` is our Response object. We can get all the information we need from it."
   ]
  },
  {
   "cell_type": "code",
   "execution_count": 3,
   "id": "389691a1-4e87-46b8-a0c8-2b9009c3131d",
   "metadata": {},
   "outputs": [
    {
     "name": "stdout",
     "output_type": "stream",
     "text": [
      "{\n",
      "  \"args\": {}, \n",
      "  \"headers\": {\n",
      "    \"Accept\": \"*/*\", \n",
      "    \"Accept-Encoding\": \"gzip, deflate\", \n",
      "    \"Host\": \"httpbin.org\", \n",
      "    \"User-Agent\": \"python-requests/2.25.1\", \n",
      "    \"X-Amzn-Trace-Id\": \"Root=1-60cb2a39-1ca4e39b2e0d007f00e109dc\"\n",
      "  }, \n",
      "  \"origin\": \"185.207.249.116\", \n",
      "  \"url\": \"http://httpbin.org/get\"\n",
      "}\n",
      "\n"
     ]
    }
   ],
   "source": [
    "# show the response object\n",
    "print(r.text)"
   ]
  },
  {
   "cell_type": "markdown",
   "id": "59247502-167d-4f72-aa97-096b525c9c4d",
   "metadata": {},
   "source": [
    "## Passing Prameters in URLs\n",
    "\n",
    "You often want to send some kind of data  in the URL's query string, e.g when you are searching google for requests you get something like https://www.google.com/search?q=requests in the URL\n"
   ]
  },
  {
   "cell_type": "code",
   "execution_count": 4,
   "id": "1185d608-88f8-4a6e-9987-1fcaa504a047",
   "metadata": {},
   "outputs": [],
   "source": [
    "# we can add some parameters to our get request\n",
    "search = {\n",
    "    'q': 'requests'\n",
    "}\n",
    "\n",
    "r = requests.get('https://www.google.com/search', params=search)"
   ]
  },
  {
   "cell_type": "code",
   "execution_count": 5,
   "id": "3ec1a876-fd47-4392-86eb-b33c33b32149",
   "metadata": {},
   "outputs": [
    {
     "name": "stdout",
     "output_type": "stream",
     "text": [
      "Response status code: 200\n",
      "URL: https://www.google.com/search?q=requests\n"
     ]
    }
   ],
   "source": [
    "print(f\"Response status code: {r.status_code}\")\n",
    "print(f\"URL: {r.url}\")"
   ]
  },
  {
   "cell_type": "code",
   "execution_count": 6,
   "id": "b5ee8826-d14f-41e3-b59a-6dd8dc95c18a",
   "metadata": {},
   "outputs": [
    {
     "name": "stdout",
     "output_type": "stream",
     "text": [
      "URL: http://httpbin.org/get?key1=value1&key2=2&key3=value3a&key3=value3b\n"
     ]
    }
   ],
   "source": [
    "# you can pass other parameters in form of dictionary such as:\n",
    "# 1.\n",
    "payload = {'key1': 'value1',\n",
    "          'key2': 2,\n",
    "          'key3': ['value3a', 'value3b']}\n",
    "r = requests.get('http://httpbin.org/get', params=payload)\n",
    "print(f\"URL: {r.url}\")"
   ]
  },
  {
   "cell_type": "code",
   "execution_count": 7,
   "id": "ea81d6a0-13dc-4db9-bb51-d7c3418b112d",
   "metadata": {},
   "outputs": [
    {
     "name": "stdout",
     "output_type": "stream",
     "text": [
      "{\n",
      "  \"args\": {}, \n",
      "  \"headers\": {\n",
      "    \"Accept\": \"*/*\", \n",
      "    \"Accept-Encoding\": \"gzip, deflate\", \n",
      "    \"Host\": \"httpbin.org\", \n",
      "    \"User-Agent\": \"Mozilla/5.0 (Windows; U; Windows NT 6.1; en-US; rv:1.9.1.6) Gecko/20091201 Firefox/3.5.6\", \n",
      "    \"X-Amzn-Trace-Id\": \"Root=1-60cb2a3b-57b1b83e48d7b60644bc2161\"\n",
      "  }, \n",
      "  \"origin\": \"185.207.249.116\", \n",
      "  \"url\": \"http://httpbin.org/get\"\n",
      "}\n",
      "\n"
     ]
    }
   ],
   "source": [
    "# 2. change user agent:\n",
    "# define your user agent, in order to disguise the request as coming from a browser\n",
    "# since some websites don't allow crawler agents to fetch data\n",
    "headers = {'User-Agent': \"Mozilla/5.0 (Windows; U; \\\n",
    "Windows NT 6.1; en-US; rv:1.9.1.6) Gecko/20091201 Firefox/3.5.6\"}\n",
    "r = requests.get('http://httpbin.org/get', headers=headers)\n",
    "print(r.text)"
   ]
  },
  {
   "cell_type": "markdown",
   "id": "3c523eed-c6b7-4903-b66a-33347c23d4df",
   "metadata": {},
   "source": [
    "Notice how the user agent changed to Mozilla. and the parameters have been added as args to the url.  "
   ]
  },
  {
   "cell_type": "code",
   "execution_count": 8,
   "id": "edf00b8c-b337-4438-ac56-e38d1b5230b5",
   "metadata": {},
   "outputs": [
    {
     "name": "stdout",
     "output_type": "stream",
     "text": [
      "{'User-Agent': 'Mozilla/5.0 (Windows; U; Windows NT 6.1; en-US; rv:1.9.1.6) Gecko/20091201 Firefox/3.5.6', 'Accept-Encoding': 'gzip, deflate', 'Accept': '*/*', 'Connection': 'keep-alive'}\n"
     ]
    }
   ],
   "source": [
    "# if we want to see the request header:\n",
    "print(r.request.headers)"
   ]
  },
  {
   "cell_type": "markdown",
   "id": "9f60c776-a647-449e-bd20-4412c3ad71e2",
   "metadata": {},
   "source": [
    "## Response Content"
   ]
  },
  {
   "cell_type": "code",
   "execution_count": 9,
   "id": "dab49173-1657-4e2b-8c70-2889ab82dc4e",
   "metadata": {},
   "outputs": [
    {
     "name": "stdout",
     "output_type": "stream",
     "text": [
      "<html>\n",
      "<head>\n",
      "<title>A Useful Page</title>\n",
      "</head>\n",
      "<body>\n",
      "<h1>An Interesting Title</h1>\n",
      "<div>\n",
      "Lorem ipsum dolor sit amet, consectetur adipisicing elit, sed do eiusmod tempor incididunt ut labore et dolore magna aliqua. Ut enim ad minim veniam, quis nostrud exercitation ullamco laboris nisi ut aliquip ex ea commodo consequat. Duis aute irure dolor in reprehenderit in voluptate velit esse cillum dolore eu fugiat nulla pariatur. Excepteur sint occaecat cupidatat non proident, sunt in culpa qui officia deserunt mollit anim id est laborum.\n",
      "</div>\n",
      "</body>\n",
      "</html>\n",
      "\n"
     ]
    }
   ],
   "source": [
    "# 1. HTML\n",
    "\n",
    "# define the link you want to target\n",
    "link = 'http://pythonscraping.com/pages/page1.html'\n",
    "# define your user agent - a disguise as a browser\n",
    "headers = {'User-Agent': \"Mozilla/5.0 (Windows; U; Windows NT 6.1; \\\n",
    "en-US; rv:1.9.1.6) Gecko/20091201 Firefox/3.5.6\"}\n",
    "# Get the requested page and save it as r\n",
    "r = requests.get(link, headers=headers)\n",
    "print(r.text)"
   ]
  },
  {
   "cell_type": "code",
   "execution_count": 10,
   "id": "269678cc-8a34-496c-bc8e-fcfc5667a63c",
   "metadata": {},
   "outputs": [
    {
     "data": {
      "text/plain": [
       "<urllib3.response.HTTPResponse at 0x7ff3bd131470>"
      ]
     },
     "execution_count": 10,
     "metadata": {},
     "output_type": "execute_result"
    }
   ],
   "source": [
    "# If you want to capture the raw socket response from the server you can access `r.raw`\n",
    "\n",
    "r = requests.get('https://api.github.com/events', stream=True)\n",
    "r.raw"
   ]
  },
  {
   "cell_type": "code",
   "execution_count": 11,
   "id": "cfee4a41-0aa9-4d0a-9121-113d9403fb88",
   "metadata": {},
   "outputs": [
    {
     "data": {
      "text/plain": [
       "b'\\x1f\\x8b\\x08\\x00\\x00\\x00\\x00\\x00\\x00\\x03\\xed\\xbd[s\\xdbX\\xb6&\\xf8W'"
      ]
     },
     "execution_count": 11,
     "metadata": {},
     "output_type": "execute_result"
    }
   ],
   "source": [
    "r.raw.read(20)"
   ]
  },
  {
   "cell_type": "markdown",
   "id": "7376d572-c2e4-4f83-b967-7f50b3c4af8b",
   "metadata": {},
   "source": [
    "By executing the below cell, we obtain the HTML source code of the link webpage. By extracting the needed data we complete our intended data crawling"
   ]
  },
  {
   "cell_type": "code",
   "execution_count": 12,
   "id": "d896cfe4-5e0e-4eb9-8264-9aff9745eea5",
   "metadata": {},
   "outputs": [],
   "source": [
    "# To capture Binary data\n",
    "\n",
    "r = requests.get('https://github.com/favicon.ico')\n",
    "with open('favicon.ico', 'wb') as f:\n",
    "    f.write(r.content)"
   ]
  },
  {
   "cell_type": "markdown",
   "id": "fa07f19e-d927-4740-97a6-1d42dbd0a71f",
   "metadata": {},
   "source": [
    "Instead of requests we could also use the `urllib` package from the standard library. It works out of the box and has the basic modules to start scraping the web"
   ]
  },
  {
   "cell_type": "code",
   "execution_count": 13,
   "id": "6c069597-722e-47a9-b1cd-ff40b769f4cb",
   "metadata": {
    "tags": []
   },
   "outputs": [
    {
     "data": {
      "text/plain": [
       "b'<html>\\n<head>\\n<title>A Useful Page</title>\\n</head>\\n<body>\\n<h1>An Interesting Title</h1>\\n<div>\\nLorem ipsum dolor sit amet, consectetur adipisicing elit, sed do eiusmod tempor incididunt ut labore et dolore magna aliqua. Ut enim ad minim veniam, quis nostrud exercitation ullamco laboris nisi ut aliquip ex ea commodo consequat. Duis aute irure dolor in reprehenderit in voluptate velit esse cillum dolore eu fugiat nulla pariatur. Excepteur sint occaecat cupidatat non proident, sunt in culpa qui officia deserunt mollit anim id est laborum.\\n</div>\\n</body>\\n</html>\\n'"
      ]
     },
     "execution_count": 13,
     "metadata": {},
     "output_type": "execute_result"
    }
   ],
   "source": [
    "# Sometimes we don't have requests installed or we have it on another envinv\n",
    "# In this case we could use the request function from the python3's standard library:\n",
    "# `urllib`. It is less performant than `requests`. \n",
    "# works fine for simple queries.\n",
    "from urllib.request import urlopen\n",
    "\n",
    "html = urlopen(link)\n",
    "html.read()"
   ]
  },
  {
   "cell_type": "code",
   "execution_count": 14,
   "id": "87c6e812-b28d-49b2-a298-6dd5b8947e60",
   "metadata": {},
   "outputs": [
    {
     "name": "stdout",
     "output_type": "stream",
     "text": [
      "{\n",
      "    \"Server\": \"GitHub.com\",\n",
      "    \"Date\": \"Thu, 17 Jun 2021 10:55:56 GMT\",\n",
      "    \"Content-Type\": \"image/x-icon\",\n",
      "    \"Last-Modified\": \"Thu, 17 Jun 2021 09:40:29 GMT\",\n",
      "    \"ETag\": \"W/\\\"60cb188d-1976\\\"\",\n",
      "    \"expires\": \"Sun, 15 Jun 2031 10:55:56 GMT\",\n",
      "    \"Cache-Control\": \"max-age=315360000\",\n",
      "    \"Vary\": \"Accept-Encoding, Accept, X-Requested-With\",\n",
      "    \"X-Frame-Options\": \"DENY\",\n",
      "    \"Content-Encoding\": \"gzip\",\n",
      "    \"Set-Cookie\": \"_gh_sess=Qhymfn4cN%2FqT4gyMx9mY%2BJqUB%2BiYAYAnxGnu7jbQyarzG4fnql8s3RDwNafiZ37w1xzlP%2FwzxFAz6y0dy0nbyQUgpxGCj9WO3SmA0TyTFmhlAdAVB9mJd3fyDE3zaQ%2BiTfdovUzjWsOLt6Pw2%2FCRWuHbdYCq2TkX9fdGIzgyqBvow%2F3EbMmzw2ASMI2ax52niwWPKVRcT4MnddLBStbvuMtWkPwl8jFfpNuQuaesCRZIdJ3S8915EwpQK3JW4Jf2ZDLa7qBngsWGaR%2FYwCg6nw%3D%3D--bkBPPR0%2FQOqPvxBL--gFzZtsKq7HBEKgC4mpJtbg%3D%3D; Path=/; HttpOnly; Secure; SameSite=Lax, _octo=GH1.1.1507979890.1623927356; Path=/; Domain=github.com; Expires=Fri, 17 Jun 2022 10:55:56 GMT; Secure; SameSite=Lax, logged_in=no; Path=/; Domain=github.com; Expires=Fri, 17 Jun 2022 10:55:56 GMT; HttpOnly; Secure; SameSite=Lax\",\n",
      "    \"Accept-Ranges\": \"bytes\",\n",
      "    \"Content-Length\": \"1219\",\n",
      "    \"X-GitHub-Request-Id\": \"7C22:74D2:14C061D:1C2E33F:60CB2A3C\"\n",
      "}\n"
     ]
    }
   ],
   "source": [
    "# Response Headers\n",
    "# Actually you need just the `r.headers` command to get the GET header\n",
    "# For a better printing of the header we do the following\n",
    "print(json.dumps(dict(r.headers), indent=4))"
   ]
  },
  {
   "cell_type": "markdown",
   "id": "cd5edfc2-4abe-4195-b9a3-e33ca1497a65",
   "metadata": {},
   "source": [
    "## Post Requests\n",
    "\n",
    "Typically, you want to send some form-encoded data — much like an HTML form.\n",
    "To do this, simply pass a dictionary to the data argument.\n",
    "\n",
    "Forms provide:\n",
    "\n",
    "* User interface for editing data\n",
    "* Mechanism for uploading changes to the server \n",
    "\n",
    "It is a collection of elements, each of which has:\n",
    "    \n",
    "* Name (used by application, often invisible to user)\n",
    "* Value (just a string)\n",
    "* User interface \n",
    "\n",
    "Different types of elements provide different ways to edit the value (text entry, checkbox, menu, etc.) "
   ]
  },
  {
   "cell_type": "code",
   "execution_count": 15,
   "id": "6a1ebe6c-b313-4cfe-b551-ada6a58324db",
   "metadata": {},
   "outputs": [
    {
     "name": "stdout",
     "output_type": "stream",
     "text": [
      "{\n",
      "  \"args\": {}, \n",
      "  \"data\": \"\", \n",
      "  \"files\": {}, \n",
      "  \"form\": {\n",
      "    \"key1\": \"value1\", \n",
      "    \"key2\": \"2\"\n",
      "  }, \n",
      "  \"headers\": {\n",
      "    \"Accept\": \"*/*\", \n",
      "    \"Accept-Encoding\": \"gzip, deflate\", \n",
      "    \"Content-Length\": \"18\", \n",
      "    \"Content-Type\": \"application/x-www-form-urlencoded\", \n",
      "    \"Host\": \"httpbin.org\", \n",
      "    \"User-Agent\": \"python-requests/2.25.1\", \n",
      "    \"X-Amzn-Trace-Id\": \"Root=1-60cb2a3d-2447caa54101261304d4be5b\"\n",
      "  }, \n",
      "  \"json\": null, \n",
      "  \"origin\": \"185.207.249.116\", \n",
      "  \"url\": \"http://httpbin.org/post\"\n",
      "}\n",
      "\n"
     ]
    }
   ],
   "source": [
    "# Your dictionary of data will automatically be form-encoded when the request is made:\n",
    "data = {'key1': 'value1', 'key2': 2}\n",
    "r = requests.post(\"http://httpbin.org/post\", data=data)\n",
    "print(r.text)"
   ]
  },
  {
   "cell_type": "code",
   "execution_count": 16,
   "id": "578d99d8-5a94-40f9-a9a4-d6ae5cab8c18",
   "metadata": {
    "tags": []
   },
   "outputs": [
    {
     "name": "stdout",
     "output_type": "stream",
     "text": [
      "{\n",
      "  \"args\": {}, \n",
      "  \"data\": \"\", \n",
      "  \"files\": {\n",
      "    \"file\": \"data:application/octet-stream;base64,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\"\n",
      "  }, \n",
      "  \"form\": {}, \n",
      "  \"headers\": {\n",
      "    \"Accept\": \"*/*\", \n",
      "    \"Accept-Encoding\": \"gzip, deflate\", \n",
      "    \"Content-Length\": \"6665\", \n",
      "    \"Content-Type\": \"multipart/form-data; boundary=f88ec3e09adc18dcab39f5f2915233b7\", \n",
      "    \"Host\": \"httpbin.org\", \n",
      "    \"User-Agent\": \"python-requests/2.25.1\", \n",
      "    \"X-Amzn-Trace-Id\": \"Root=1-60cb2a3e-46f77d2f777fbabe0bff93ae\"\n",
      "  }, \n",
      "  \"json\": null, \n",
      "  \"origin\": \"185.207.249.116\", \n",
      "  \"url\": \"https://httpbin.org/post\"\n",
      "}\n",
      "\n"
     ]
    }
   ],
   "source": [
    "# post a file\n",
    "link = 'https://httpbin.org/post'\n",
    "file = {'file': open('favicon.ico', 'rb')}\n",
    "\n",
    "r = requests.post(link, files=file)\n",
    "print(r.text)"
   ]
  },
  {
   "cell_type": "markdown",
   "id": "53c7a6b5-2a16-40f3-9030-810fc54be210",
   "metadata": {},
   "source": [
    "## Response Status Code"
   ]
  },
  {
   "cell_type": "code",
   "execution_count": 17,
   "id": "c6a48f1f-3c4a-4e3a-bce7-96e8e569e3b8",
   "metadata": {},
   "outputs": [
    {
     "data": {
      "text/plain": [
       "200"
      ]
     },
     "execution_count": 17,
     "metadata": {},
     "output_type": "execute_result"
    }
   ],
   "source": [
    "r = requests.get('https://httpbin.org/get')\n",
    "r.status_code"
   ]
  },
  {
   "cell_type": "markdown",
   "id": "a36d48b8-2b75-4a6a-a002-4c39dd4790d9",
   "metadata": {},
   "source": [
    "Requests also comes with a built-in status code lookup object for easy reference:"
   ]
  },
  {
   "cell_type": "code",
   "execution_count": 18,
   "id": "30207524-470c-4594-8ba4-5779b1a5a179",
   "metadata": {},
   "outputs": [
    {
     "data": {
      "text/plain": [
       "400"
      ]
     },
     "execution_count": 18,
     "metadata": {},
     "output_type": "execute_result"
    }
   ],
   "source": [
    "requests.codes.bad"
   ]
  },
  {
   "cell_type": "code",
   "execution_count": 19,
   "id": "0a247a55-be73-4b00-8c04-e7ca9321c2e1",
   "metadata": {},
   "outputs": [
    {
     "data": {
      "text/plain": [
       "202"
      ]
     },
     "execution_count": 19,
     "metadata": {},
     "output_type": "execute_result"
    }
   ],
   "source": [
    "requests.codes.accepted"
   ]
  },
  {
   "cell_type": "markdown",
   "id": "5c230143-8d74-4c99-bae2-f3cd12224600",
   "metadata": {},
   "source": [
    "## Cookies\n",
    "\n",
    "Let's see deepl's cookie:"
   ]
  },
  {
   "cell_type": "code",
   "execution_count": 20,
   "id": "994742e5-1b8f-4fb2-a5cb-af7a9ec0f965",
   "metadata": {},
   "outputs": [],
   "source": [
    "r = requests.get('http://deepl.com')"
   ]
  },
  {
   "cell_type": "code",
   "execution_count": 21,
   "id": "c6572acd-ff9d-4f66-a76f-666a382df1a9",
   "metadata": {},
   "outputs": [
    {
     "data": {
      "text/plain": [
       "<RequestsCookieJar[Cookie(version=0, name='releaseGroups', value='89.DPAY-991.2.5_123.DPAY-1399.2.2_145.DPAY-1214.2.1_187.DM-70.2.1_188.DM-71.1.2_193.DM-2.1.1_194.DM-8.2.1_198.TG-88.2.1_199.DM-13.1.1', port=None, port_specified=False, domain='www.deepl.com', domain_specified=False, domain_initial_dot=False, path='/', path_specified=True, secure='True', expires=1626555361, discard=False, comment=None, comment_url=None, rest={'SameSite': 'Lax'}, rfc2109=False), Cookie(version=0, name='userCountry', value='US', port=None, port_specified=False, domain='www.deepl.com', domain_specified=False, domain_initial_dot=False, path='/', path_specified=True, secure='True', expires=None, discard=True, comment=None, comment_url=None, rest={'SameSite': 'Lax'}, rfc2109=False)]>"
      ]
     },
     "execution_count": 21,
     "metadata": {},
     "output_type": "execute_result"
    }
   ],
   "source": [
    "r.cookies"
   ]
  },
  {
   "cell_type": "markdown",
   "id": "0cbbc792-5b61-4294-9170-5e632e2338bb",
   "metadata": {},
   "source": [
    "You can also send your own cookie to the server. For instance to login an already expired session."
   ]
  },
  {
   "cell_type": "code",
   "execution_count": 22,
   "id": "57be63cd-9c7a-4248-ad75-a1de262b5cd4",
   "metadata": {},
   "outputs": [
    {
     "name": "stdout",
     "output_type": "stream",
     "text": [
      "{\n",
      "  \"cookies\": {\n",
      "    \"cookies_are\": \"delicious\"\n",
      "  }\n",
      "}\n",
      "\n"
     ]
    }
   ],
   "source": [
    "url = 'https://httpbin.org/cookies'\n",
    "cookies = dict(cookies_are='delicious')\n",
    "r = requests.get(url, cookies=cookies)\n",
    "print(r.text)"
   ]
  },
  {
   "cell_type": "markdown",
   "id": "dfca0e47-38ed-414e-bd73-c8fcce48ccf6",
   "metadata": {},
   "source": [
    "When you create a BeautifulSoup object, two arguments are passed in: the HTML text and the parser"
   ]
  },
  {
   "cell_type": "code",
   "execution_count": 23,
   "id": "e2cdef9a-ba1b-4e67-b533-a7b151b86d1c",
   "metadata": {},
   "outputs": [],
   "source": [
    "# Timeout\n",
    "# r = requests.get(link, timeout=0.001 ) "
   ]
  },
  {
   "cell_type": "markdown",
   "id": "d07a1592-9bd6-4cbc-88e2-7944f59dda16",
   "metadata": {},
   "source": [
    "## SSL Cert Verification\n",
    "\n",
    "`requests` verifies SSL certificates for HTTPS request, just like a web browser does. By default, SSL verification is enabled. A SSLError is thrown if unable to verify a certificate:"
   ]
  },
  {
   "cell_type": "code",
   "execution_count": 31,
   "id": "8397e737-a254-4e6a-9a6a-8f78ae5d56f8",
   "metadata": {},
   "outputs": [
    {
     "name": "stdout",
     "output_type": "stream",
     "text": [
      "<class 'requests.exceptions.SSLError'> \n",
      " HTTPSConnectionPool(host='expired.badssl.com', port=443): Max retries exceeded with url: / (Caused by SSLError(SSLError(1, '[SSL: CERTIFICATE_VERIFY_FAILED] certificate verify failed (_ssl.c:852)'),))\n"
     ]
    }
   ],
   "source": [
    "# Expired SSL\n",
    "try:\n",
    "    requests.get('https://expired.badssl.com/')\n",
    "except Exception as x:\n",
    "        print(type(x),'\\n', x)"
   ]
  },
  {
   "cell_type": "code",
   "execution_count": 39,
   "id": "36397ff2-db4d-4089-9621-95515fd099ce",
   "metadata": {},
   "outputs": [
    {
     "name": "stdout",
     "output_type": "stream",
     "text": [
      "<class 'requests.exceptions.SSLError'> \n",
      " HTTPSConnectionPool(host='untrusted-root.host.badssl.com', port=443): Max retries exceeded with url: / (Caused by SSLError(SSLError(1, '[SSL: CERTIFICATE_VERIFY_FAILED] certificate verify failed (_ssl.c:852)'),))\n"
     ]
    }
   ],
   "source": [
    "try:\n",
    "    requests.get('https://untrusted-root.host.badssl.com/')\n",
    "except Exception as x:\n",
    "        print(type(x),'\\n', x)"
   ]
  },
  {
   "cell_type": "code",
   "execution_count": 35,
   "id": "b026bcae-8426-4adf-b029-fcfa4fbd1c31",
   "metadata": {},
   "outputs": [
    {
     "name": "stdout",
     "output_type": "stream",
     "text": [
      "<class 'requests.exceptions.SSLError'> \n",
      " HTTPSConnectionPool(host='no-common-name.host.badssl.com', port=443): Max retries exceeded with url: / (Caused by SSLError(SSLError(1, '[SSL: CERTIFICATE_VERIFY_FAILED] certificate verify failed (_ssl.c:852)'),))\n"
     ]
    }
   ],
   "source": [
    "try:\n",
    "    requests.get('https://no-common-name.host.badssl.com/')\n",
    "except Exception as x:\n",
    "        print(type(x),'\\n', x)"
   ]
  },
  {
   "cell_type": "markdown",
   "id": "748dc203-898d-48a3-a618-f22bd0825554",
   "metadata": {},
   "source": [
    "## Proxies\n",
    "\n",
    "If you need to use a proxy, you can configure individual requests with `proxies` argument to any request method:"
   ]
  },
  {
   "cell_type": "markdown",
   "id": "79b9dd87-5a43-4a1c-894b-aa4bcfccdef1",
   "metadata": {},
   "source": [
    "```python\n",
    "proxies = {\n",
    "    'http': 'http://10.10.1.10:3128',\n",
    "    'https': 'http://10.10.1.10:1080'\n",
    "}\n",
    "requests.get('http://example.org', proxies=proxies)\n",
    "```"
   ]
  },
  {
   "cell_type": "markdown",
   "id": "45f26836-6496-46aa-9c00-7f9460ef472a",
   "metadata": {},
   "source": [
    "## References\n",
    "\n",
    "1. [CS 142: Web Applications](https://web.stanford.edu/~ouster/cgi-bin/cs142-winter15/lectures.php), by John Ousterhout, Stanford University\n",
    "2. `requests` official documentation\n",
    "3. Mitchell, R. 2018. Web Scraping with Python: Collecting More Data from the Modern Web. O’Reilly Media.\n"
   ]
  },
  {
   "cell_type": "code",
   "execution_count": null,
   "id": "7c1810ca-f9b7-44ef-a581-38b3b1225efe",
   "metadata": {},
   "outputs": [],
   "source": []
  }
 ],
 "metadata": {
  "kernelspec": {
   "display_name": "Python 3",
   "language": "python",
   "name": "python3"
  },
  "language_info": {
   "codemirror_mode": {
    "name": "ipython",
    "version": 3
   },
   "file_extension": ".py",
   "mimetype": "text/x-python",
   "name": "python",
   "nbconvert_exporter": "python",
   "pygments_lexer": "ipython3",
   "version": "3.6.13"
  }
 },
 "nbformat": 4,
 "nbformat_minor": 5
}
